{
  "nbformat": 4,
  "nbformat_minor": 0,
  "metadata": {
    "colab": {
      "provenance": []
    },
    "kernelspec": {
      "name": "python3",
      "display_name": "Python 3"
    },
    "language_info": {
      "name": "python"
    }
  },
  "cells": [
    {
      "cell_type": "markdown",
      "source": [
        "## **Tensorflow Keras Neural Network Starter**"
      ],
      "metadata": {
        "id": "Ssig0yWhe8Uy"
      }
    },
    {
      "cell_type": "markdown",
      "source": [
        "In this notebook we will create a simple neural network to classify types of clothing garments with Keras (sub module of TensorFlow)."
      ],
      "metadata": {
        "id": "myWwObjifi1L"
      }
    },
    {
      "cell_type": "code",
      "source": [
        "# Imports\n",
        "# import keras from tensorflow\n",
        "from tensorflow import keras\n",
        "# Numpy and Matplotlib libraries\n",
        "import numpy as np\n",
        "import matplotlib.pyplot as plot"
      ],
      "metadata": {
        "id": "uwS9tANJgyEU"
      },
      "execution_count": 38,
      "outputs": []
    },
    {
      "cell_type": "markdown",
      "source": [
        "**Dataset**\n",
        "\n",
        "We will use MNIST Fashion dataset from Keras.\n",
        "\n",
        "This dataset includes 60,000 images for training and 10,000 images for testing."
      ],
      "metadata": {
        "id": "01objw-ChdH8"
      }
    },
    {
      "cell_type": "code",
      "source": [
        "# load fashion_mnist dataset\n",
        "garment_dataset = keras.datasets.fashion_mnist\n",
        "\n",
        "# split data into testing and training\n",
        "(train_images, train_image_labels), (test_images, test_image_labels) = garment_dataset.load_data()"
      ],
      "metadata": {
        "id": "v04mI4CNiFbe"
      },
      "execution_count": 39,
      "outputs": []
    },
    {
      "cell_type": "code",
      "source": [
        "# Shape of our data\n",
        "train_images.shape\n",
        "# train_image_labels.shape\n",
        "# test_images.shape"
      ],
      "metadata": {
        "colab": {
          "base_uri": "https://localhost:8080/"
        },
        "id": "HNszG006jHTx",
        "outputId": "deac8f2b-944f-45fa-b54e-b5045302e7ae"
      },
      "execution_count": 40,
      "outputs": [
        {
          "output_type": "execute_result",
          "data": {
            "text/plain": [
              "(60000, 28, 28)"
            ]
          },
          "metadata": {},
          "execution_count": 40
        }
      ]
    },
    {
      "cell_type": "markdown",
      "source": [
        "So we have got 60,000 images that are made up of 28 x 28 pixels that is 784 in total."
      ],
      "metadata": {
        "id": "PPe8vHBFjdka"
      }
    },
    {
      "cell_type": "code",
      "source": [
        "# View single image\n",
        "train_images[58000]"
      ],
      "metadata": {
        "colab": {
          "base_uri": "https://localhost:8080/",
          "height": 68
        },
        "id": "Np7ZP6Ymj9wK",
        "outputId": "527fdc69-f5a3-4744-f0b9-edb1765d7207"
      },
      "execution_count": 41,
      "outputs": [
        {
          "output_type": "execute_result",
          "data": {
            "text/plain": [
              "array([[  0,   0,   0,   0,   0,   0,   0,   0,   0,   0,  43, 103,  14,\n",
              "          0,   0,   0,  40, 134,  54,   0,   0,   0,   0,   0,   0,   0,\n",
              "          0,   0],\n",
              "       [  0,   0,   0,   0,   0,   0,   0,   0,  27, 210, 200, 220, 229,\n",
              "        231, 244, 255, 149, 241, 193, 188, 155,   0,   0,   0,   0,   0,\n",
              "          0,   0],\n",
              "       [  0,   0,   0,   0,   0,   0,   0,   0, 168, 219, 194, 195, 211,\n",
              "        232, 241, 233, 198, 182, 192, 191, 222, 122,   0,   0,   0,   0,\n",
              "          0,   0],\n",
              "       [  0,   0,   0,   0,   0,   0,   0,  12, 210, 203, 197, 198, 184,\n",
              "        188, 194, 182, 178, 192, 191, 195, 201, 204,   0,   0,   0,   0,\n",
              "          0,   0],\n",
              "       [  0,   0,   0,   0,   0,   0,   0,  80, 217, 199, 201, 200, 187,\n",
              "        188, 195, 190, 188, 192, 194, 197, 197, 201,   0,   0,   0,   0,\n",
              "          0,   0],\n",
              "       [  0,   0,   0,   0,   0,   0,   0, 139, 216, 204, 212, 199, 198,\n",
              "        200, 202, 200, 202, 204, 189, 200, 203, 210,  51,   0,   0,   0,\n",
              "          0,   0],\n",
              "       [  0,   0,   0,   0,   0,   0,   0, 192, 232, 234, 227, 198, 208,\n",
              "        204, 207, 207, 202, 203, 183, 230, 223, 227, 172,   0,   0,   0,\n",
              "          0,   0],\n",
              "       [  0,   0,   0,   0,   0,   0,   0,  67, 144, 234, 227, 200, 208,\n",
              "        202, 202, 200, 203, 201, 189, 228, 206, 148,  48,   0,   0,   0,\n",
              "          0,   0],\n",
              "       [  0,   0,   0,   0,   0,   0,   0,   0,   0,   0, 224, 210, 201,\n",
              "        203, 203, 204, 209, 198, 221, 132,   0,   0,   0,   0,   0,   0,\n",
              "          0,   0],\n",
              "       [  0,   0,   0,   0,   0,   0,   0,   4,   0,   0, 238, 210, 204,\n",
              "        201, 204, 204, 204, 193, 221, 149,   0,   0,   1,   0,   0,   0,\n",
              "          0,   0],\n",
              "       [  0,   0,   0,   0,   0,   0,   0,   2,   0,   0, 238, 208, 201,\n",
              "        200, 202, 202, 203, 200, 203, 154,   0,   0,   0,   0,   0,   0,\n",
              "          0,   0],\n",
              "       [  0,   0,   0,   0,   0,   0,   0,   1,   0,   0, 199, 207, 206,\n",
              "        210, 206, 206, 206, 202, 204, 165,   0,   0,   0,   0,   0,   0,\n",
              "          0,   0],\n",
              "       [  0,   0,   0,   0,   0,   0,   0,   1,   0,   0, 204, 209, 203,\n",
              "        204, 198, 200, 202, 202, 206, 177,   0,   0,   0,   0,   0,   0,\n",
              "          0,   0],\n",
              "       [  0,   0,   0,   0,   0,   0,   0,   2,   0,  14, 209, 204, 202,\n",
              "        200, 208, 210, 209, 204, 207, 190,   0,   0,   1,   0,   0,   0,\n",
              "          0,   0],\n",
              "       [  0,   0,   0,   0,   0,   0,   0,   3,   0,  46, 217, 209, 216,\n",
              "        213, 210, 206, 208, 210, 210, 226,   0,   0,   2,   0,   0,   0,\n",
              "          0,   0],\n",
              "       [  0,   0,   0,   0,   0,   0,   0,   3,   0,  72, 207, 190, 194,\n",
              "        204, 198, 209, 200, 180, 172, 190,   6,   0,   1,   0,   0,   0,\n",
              "          0,   0],\n",
              "       [  0,   0,   0,   0,   0,   0,   0,   1,   0, 109, 208, 189, 188,\n",
              "        202, 208, 211, 198, 181, 171, 201,  28,   0,   2,   0,   0,   0,\n",
              "          0,   0],\n",
              "       [  0,   0,   0,   0,   0,   0,   0,   0,   0, 151, 209, 192, 193,\n",
              "        206, 206, 210, 195, 171, 177, 182,  63,   0,   2,   0,   0,   0,\n",
              "          0,   0],\n",
              "       [  0,   0,   0,   0,   0,   0,   0,   0,   0, 183, 206, 195, 199,\n",
              "        208, 206, 210, 201, 163, 171, 188,  93,   0,   2,   0,   0,   0,\n",
              "          0,   0],\n",
              "       [  0,   0,   0,   0,   0,   0,   0,   0,   0, 202, 208, 197, 199,\n",
              "        203, 204, 209, 202, 165, 172, 190, 115,   0,   1,   0,   0,   0,\n",
              "          0,   0],\n",
              "       [  0,   0,   0,   0,   0,   0,   0,   0,   0, 204, 204, 181, 189,\n",
              "        199, 203, 209, 202, 159, 163, 187, 133,   0,   0,   0,   0,   0,\n",
              "          0,   0],\n",
              "       [  0,   0,   0,   0,   0,   0,   0,   0,   0, 202, 218, 204, 212,\n",
              "        208, 208, 208, 210, 203, 198, 212, 167,   0,   0,   0,   0,   0,\n",
              "          0,   0],\n",
              "       [  0,   0,   0,   0,   0,   0,   0,   0,   0, 199, 219, 206, 208,\n",
              "        202, 206, 206, 208, 207, 203, 213, 157,   0,   1,   0,   0,   0,\n",
              "          0,   0],\n",
              "       [  0,   0,   0,   0,   0,   0,   0,   0,   0, 192, 220, 206, 208,\n",
              "        207, 206, 206, 208, 207, 202, 216, 141,   0,   2,   0,   0,   0,\n",
              "          0,   0],\n",
              "       [  0,   0,   0,   0,   0,   0,   0,   0,   0, 187, 223, 208, 210,\n",
              "        208, 209, 210, 210, 210, 200, 217, 120,   0,   2,   0,   0,   0,\n",
              "          0,   0],\n",
              "       [  0,   0,   0,   0,   0,   0,   0,   0,   0, 174, 220, 203, 203,\n",
              "        202, 202, 202, 204, 203, 200, 212,  76,   0,   2,   0,   0,   0,\n",
              "          0,   0],\n",
              "       [  0,   0,   0,   0,   0,   0,   0,   0,   0, 194, 238, 214, 222,\n",
              "        219, 219, 219, 221, 227, 213, 226,  66,   0,   3,   0,   0,   0,\n",
              "          0,   0],\n",
              "       [  0,   0,   0,   0,   0,   0,   0,   0,   0,  38, 148, 169, 178,\n",
              "        183, 183, 179, 173, 170, 163, 105,   0,   0,   0,   0,   0,   0,\n",
              "          0,   0]], dtype=uint8)"
            ],
            "text/html": [
              "<style>\n",
              "      .ndarray_repr .ndarray_raw_data {\n",
              "        display: none;\n",
              "      }\n",
              "      .ndarray_repr.show_array .ndarray_raw_data {\n",
              "        display: block;\n",
              "      }\n",
              "      .ndarray_repr.show_array .ndarray_image_preview {\n",
              "        display: none;\n",
              "      }\n",
              "      </style>\n",
              "      <div id=\"id-e40a53b8-ca87-4c5f-b9e1-fdd2c6d828a1\" class=\"ndarray_repr\"><pre>ndarray (28, 28) <button style=\"padding: 0 2px;\">show data</button></pre><img src=\"data:image/png;base64,iVBORw0KGgoAAAANSUhEUgAAABwAAAAcCAAAAABXZoBIAAABl0lEQVR4nGWSP2/UQBDF38z+sc++M8lxBAmkU8Q/IUITkdBQwsegRXT0IDoQHS18BGip+ASkTkFDBR0ShCS6EF+8692hwM7J9lSr99O8mbe7wHltPS0A3H5z/1yh9nD1czkb8SR/93jff3/yX+MWvh25n4cUfm1/EfXwRbdzvFc5Wmj7ty5EW7UDANANfJScalGgNEJxja7tAzG55OMkK8Ze2dG9Dtxdm1+QTJsE4uaz9ecd+OojwIi+omjj0afX3SjAj8WSQeb08oeXvZkaKKAiwXustz3tthFADBJByaEBpAMF+JYaXQNCOVZ2bRl20TGDx31IUhgvIWPxNAFIOhCbKZIQara40YfAlfJIZy5fHpxNrZNOlIibJC5mHEnyjSZKCwV3SBkdJZT2z/XBtptBaY6wZ8jnA3iRGZ6EmHgD3ZkA18dlLYBbhmnvhoC4hrSGpHd9cW1gG4hrpwENKpucK9uKAAMAoo57rwJ4xRyZgIp+D2xPgocALPBfB3A2dWkA2C4mZWO7+ia3nl0aGdQuVHvvG+kfkNWR3rRMJFQAAAAASUVORK5CYII=\" class=\"ndarray_image_preview\" /><pre class=\"ndarray_raw_data\">array([[  0,   0,   0,   0,   0,   0,   0,   0,   0,   0,  43, 103,  14,\n",
              "          0,   0,   0,  40, 134,  54,   0,   0,   0,   0,   0,   0,   0,\n",
              "          0,   0],\n",
              "       [  0,   0,   0,   0,   0,   0,   0,   0,  27, 210, 200, 220, 229,\n",
              "        231, 244, 255, 149, 241, 193, 188, 155,   0,   0,   0,   0,   0,\n",
              "          0,   0],\n",
              "       [  0,   0,   0,   0,   0,   0,   0,   0, 168, 219, 194, 195, 211,\n",
              "        232, 241, 233, 198, 182, 192, 191, 222, 122,   0,   0,   0,   0,\n",
              "          0,   0],\n",
              "       [  0,   0,   0,   0,   0,   0,   0,  12, 210, 203, 197, 198, 184,\n",
              "        188, 194, 182, 178, 192, 191, 195, 201, 204,   0,   0,   0,   0,\n",
              "          0,   0],\n",
              "       [  0,   0,   0,   0,   0,   0,   0,  80, 217, 199, 201, 200, 187,\n",
              "        188, 195, 190, 188, 192, 194, 197, 197, 201,   0,   0,   0,   0,\n",
              "          0,   0],\n",
              "       [  0,   0,   0,   0,   0,   0,   0, 139, 216, 204, 212, 199, 198,\n",
              "        200, 202, 200, 202, 204, 189, 200, 203, 210,  51,   0,   0,   0,\n",
              "          0,   0],\n",
              "       [  0,   0,   0,   0,   0,   0,   0, 192, 232, 234, 227, 198, 208,\n",
              "        204, 207, 207, 202, 203, 183, 230, 223, 227, 172,   0,   0,   0,\n",
              "          0,   0],\n",
              "       [  0,   0,   0,   0,   0,   0,   0,  67, 144, 234, 227, 200, 208,\n",
              "        202, 202, 200, 203, 201, 189, 228, 206, 148,  48,   0,   0,   0,\n",
              "          0,   0],\n",
              "       [  0,   0,   0,   0,   0,   0,   0,   0,   0,   0, 224, 210, 201,\n",
              "        203, 203, 204, 209, 198, 221, 132,   0,   0,   0,   0,   0,   0,\n",
              "          0,   0],\n",
              "       [  0,   0,   0,   0,   0,   0,   0,   4,   0,   0, 238, 210, 204,\n",
              "        201, 204, 204, 204, 193, 221, 149,   0,   0,   1,   0,   0,   0,\n",
              "          0,   0],\n",
              "       [  0,   0,   0,   0,   0,   0,   0,   2,   0,   0, 238, 208, 201,\n",
              "        200, 202, 202, 203, 200, 203, 154,   0,   0,   0,   0,   0,   0,\n",
              "          0,   0],\n",
              "       [  0,   0,   0,   0,   0,   0,   0,   1,   0,   0, 199, 207, 206,\n",
              "        210, 206, 206, 206, 202, 204, 165,   0,   0,   0,   0,   0,   0,\n",
              "          0,   0],\n",
              "       [  0,   0,   0,   0,   0,   0,   0,   1,   0,   0, 204, 209, 203,\n",
              "        204, 198, 200, 202, 202, 206, 177,   0,   0,   0,   0,   0,   0,\n",
              "          0,   0],\n",
              "       [  0,   0,   0,   0,   0,   0,   0,   2,   0,  14, 209, 204, 202,\n",
              "        200, 208, 210, 209, 204, 207, 190,   0,   0,   1,   0,   0,   0,\n",
              "          0,   0],\n",
              "       [  0,   0,   0,   0,   0,   0,   0,   3,   0,  46, 217, 209, 216,\n",
              "        213, 210, 206, 208, 210, 210, 226,   0,   0,   2,   0,   0,   0,\n",
              "          0,   0],\n",
              "       [  0,   0,   0,   0,   0,   0,   0,   3,   0,  72, 207, 190, 194,\n",
              "        204, 198, 209, 200, 180, 172, 190,   6,   0,   1,   0,   0,   0,\n",
              "          0,   0],\n",
              "       [  0,   0,   0,   0,   0,   0,   0,   1,   0, 109, 208, 189, 188,\n",
              "        202, 208, 211, 198, 181, 171, 201,  28,   0,   2,   0,   0,   0,\n",
              "          0,   0],\n",
              "       [  0,   0,   0,   0,   0,   0,   0,   0,   0, 151, 209, 192, 193,\n",
              "        206, 206, 210, 195, 171, 177, 182,  63,   0,   2,   0,   0,   0,\n",
              "          0,   0],\n",
              "       [  0,   0,   0,   0,   0,   0,   0,   0,   0, 183, 206, 195, 199,\n",
              "        208, 206, 210, 201, 163, 171, 188,  93,   0,   2,   0,   0,   0,\n",
              "          0,   0],\n",
              "       [  0,   0,   0,   0,   0,   0,   0,   0,   0, 202, 208, 197, 199,\n",
              "        203, 204, 209, 202, 165, 172, 190, 115,   0,   1,   0,   0,   0,\n",
              "          0,   0],\n",
              "       [  0,   0,   0,   0,   0,   0,   0,   0,   0, 204, 204, 181, 189,\n",
              "        199, 203, 209, 202, 159, 163, 187, 133,   0,   0,   0,   0,   0,\n",
              "          0,   0],\n",
              "       [  0,   0,   0,   0,   0,   0,   0,   0,   0, 202, 218, 204, 212,\n",
              "        208, 208, 208, 210, 203, 198, 212, 167,   0,   0,   0,   0,   0,\n",
              "          0,   0],\n",
              "       [  0,   0,   0,   0,   0,   0,   0,   0,   0, 199, 219, 206, 208,\n",
              "        202, 206, 206, 208, 207, 203, 213, 157,   0,   1,   0,   0,   0,\n",
              "          0,   0],\n",
              "       [  0,   0,   0,   0,   0,   0,   0,   0,   0, 192, 220, 206, 208,\n",
              "        207, 206, 206, 208, 207, 202, 216, 141,   0,   2,   0,   0,   0,\n",
              "          0,   0],\n",
              "       [  0,   0,   0,   0,   0,   0,   0,   0,   0, 187, 223, 208, 210,\n",
              "        208, 209, 210, 210, 210, 200, 217, 120,   0,   2,   0,   0,   0,\n",
              "          0,   0],\n",
              "       [  0,   0,   0,   0,   0,   0,   0,   0,   0, 174, 220, 203, 203,\n",
              "        202, 202, 202, 204, 203, 200, 212,  76,   0,   2,   0,   0,   0,\n",
              "          0,   0],\n",
              "       [  0,   0,   0,   0,   0,   0,   0,   0,   0, 194, 238, 214, 222,\n",
              "        219, 219, 219, 221, 227, 213, 226,  66,   0,   3,   0,   0,   0,\n",
              "          0,   0],\n",
              "       [  0,   0,   0,   0,   0,   0,   0,   0,   0,  38, 148, 169, 178,\n",
              "        183, 183, 179, 173, 170, 163, 105,   0,   0,   0,   0,   0,   0,\n",
              "          0,   0]], dtype=uint8)</pre></div><script>\n",
              "      (() => {\n",
              "      const titles = ['show data', 'hide data'];\n",
              "      let index = 0\n",
              "      document.querySelector('#id-e40a53b8-ca87-4c5f-b9e1-fdd2c6d828a1 button').onclick = (e) => {\n",
              "        document.querySelector('#id-e40a53b8-ca87-4c5f-b9e1-fdd2c6d828a1').classList.toggle('show_array');\n",
              "        index = (++index) % 2;\n",
              "        document.querySelector('#id-e40a53b8-ca87-4c5f-b9e1-fdd2c6d828a1 button').textContent = titles[index];\n",
              "        e.preventDefault();\n",
              "        e.stopPropagation();\n",
              "      }\n",
              "      })();\n",
              "    </script>"
            ]
          },
          "metadata": {},
          "execution_count": 41
        }
      ]
    },
    {
      "cell_type": "markdown",
      "source": [
        "Our image is in grey scale because our pixel values are between 0(Black) and 255(White)"
      ],
      "metadata": {
        "id": "5HWodhapkglG"
      }
    },
    {
      "cell_type": "code",
      "source": [
        "# View single pixel\n",
        "train_images[48000, 20, 24]"
      ],
      "metadata": {
        "colab": {
          "base_uri": "https://localhost:8080/"
        },
        "id": "1teanF13kGUf",
        "outputId": "c4c627b9-8bda-4077-edf6-410fc746ace0"
      },
      "execution_count": 42,
      "outputs": [
        {
          "output_type": "execute_result",
          "data": {
            "text/plain": [
              "194"
            ]
          },
          "metadata": {},
          "execution_count": 42
        }
      ]
    },
    {
      "cell_type": "markdown",
      "source": [
        "Obtain unique numeric labels from our dataset and assign string labels for our reference"
      ],
      "metadata": {
        "id": "6HhBGfLdmwYM"
      }
    },
    {
      "cell_type": "code",
      "source": [
        "np.unique(train_image_labels)"
      ],
      "metadata": {
        "colab": {
          "base_uri": "https://localhost:8080/"
        },
        "id": "aFZU9mmRlCCA",
        "outputId": "6a5c5280-803c-46b1-fcaa-885e3a03e6c5"
      },
      "execution_count": 43,
      "outputs": [
        {
          "output_type": "execute_result",
          "data": {
            "text/plain": [
              "array([0, 1, 2, 3, 4, 5, 6, 7, 8, 9], dtype=uint8)"
            ]
          },
          "metadata": {},
          "execution_count": 43
        }
      ]
    },
    {
      "cell_type": "markdown",
      "source": [
        "We have got 10 unique labels"
      ],
      "metadata": {
        "id": "1aMLvz7Px8N2"
      }
    },
    {
      "cell_type": "code",
      "source": [
        "# Taken from keras documentation\n",
        "label_names = ['T-shirt/top', 'Trouser', 'Pullover', 'Dress', 'Coat',\n",
        "               'Sandal', 'Shirt', 'Sneaker', 'Bag', 'Ankle boot']"
      ],
      "metadata": {
        "id": "IvUMgJSJncT_"
      },
      "execution_count": 44,
      "outputs": []
    },
    {
      "cell_type": "markdown",
      "source": [
        "Visualizing the images"
      ],
      "metadata": {
        "id": "BeB6yuJOnxb4"
      }
    },
    {
      "cell_type": "code",
      "source": [
        "# Plotting the image\n",
        "plot.imshow(train_images[49999])\n",
        "# Color bar\n",
        "plot.colorbar()\n",
        "plot.show()"
      ],
      "metadata": {
        "colab": {
          "base_uri": "https://localhost:8080/",
          "height": 430
        },
        "id": "2cS5656gn4ux",
        "outputId": "66997caf-12dc-44ee-f7ce-942263a18d8a"
      },
      "execution_count": 46,
      "outputs": [
        {
          "output_type": "display_data",
          "data": {
            "text/plain": [
              "<Figure size 640x480 with 2 Axes>"
            ],
            "image/png": "[encoded data removed]"
          },
          "metadata": {}
        }
      ]
    },
    {
      "cell_type": "markdown",
      "source": [
        "**Data Preprocessing**\n",
        "\n",
        "The last step before creating our model is to preprocess our data. This simply means applying some prior transformations to our data before feeding it the model. In this case we will simply scale all our greyscale pixel values (0-255) to be between 0 and 1. We can do this by dividing each value in the training and testing sets by 255.0. We do this because smaller values will make it easier for the model to process our values."
      ],
      "metadata": {
        "id": "IFqEc9LAoXE6"
      }
    },
    {
      "cell_type": "code",
      "source": [
        "processed_train_images = train_images / 255.0\n",
        "\n",
        "processed_test_images = test_images / 255.0"
      ],
      "metadata": {
        "id": "2joY3K29otiL"
      },
      "execution_count": 47,
      "outputs": []
    },
    {
      "cell_type": "markdown",
      "source": [
        "**Building the Model**\n",
        "\n",
        " We are using keras sequential model with three different layers. This model represents a feed-forward neural network (one that passes values from left to right)"
      ],
      "metadata": {
        "id": "3oawO6XDo_6Y"
      }
    },
    {
      "cell_type": "code",
      "source": [
        "garmentModel = keras.Sequential([\n",
        "    keras.layers.Flatten(input_shape=(28, 28)),  # input layer (1)\n",
        "    keras.layers.Dense(128, activation='relu'),  # hidden layer (2)\n",
        "    keras.layers.Dense(10, activation='softmax') # output layer (3)\n",
        "])"
      ],
      "metadata": {
        "id": "d5dVYeWwpP1K"
      },
      "execution_count": 48,
      "outputs": []
    },
    {
      "cell_type": "markdown",
      "source": [
        "Input Layer(1): It consist of 784 neurons. We use the flatten layer with an input shape of (28,28) to denote that our input should come in in that shape. The flatten means that our layer will reshape the shape (28,28) array into a vector of 784 neurons so that each pixel will be associated with one neuron.\n",
        "\n",
        "Hidden Layer(2): This is our first and only hidden layer. The dense denotes that this layer will be fully connected and each neuron from the previous layer connects to each neuron of this layer. It has 128 neurons and uses the rectify linear unit activation function.\n",
        "\n",
        "Output Layer(3): This is our output later and is also a dense layer. It has 10 neurons that we will look at to determine our models output. Each neuron represnts the probabillity of a given image being one of the 10 different classes. The activation function softmax is used on this layer to calculate a probabillity distribution for each class. This means the value of any neuron in this layer will be between 0 and 1, where 1 represents a high probabillity of the image being that class."
      ],
      "metadata": {
        "id": "3IzGCOgCpwne"
      }
    },
    {
      "cell_type": "markdown",
      "source": [
        "**Compile the Model**\n",
        "\n",
        "To compile a model we need to define the loss function, optimizer and metrics we would like to track."
      ],
      "metadata": {
        "id": "Ca9Xwm4XqU4z"
      }
    },
    {
      "cell_type": "code",
      "source": [
        "# We can try out different optimizer and loss algorithms from Keras documentation\n",
        "garmentModel.compile(\n",
        "              optimizer='adam',\n",
        "              loss='sparse_categorical_crossentropy',\n",
        "              metrics=['accuracy']\n",
        "              )"
      ],
      "metadata": {
        "id": "gjyFQoaUqmXZ"
      },
      "execution_count": 49,
      "outputs": []
    },
    {
      "cell_type": "markdown",
      "source": [
        "**Training the Model**"
      ],
      "metadata": {
        "id": "6Ni4RBHSrM_g"
      }
    },
    {
      "cell_type": "code",
      "source": [
        "# Fit method is used for training\n",
        "# Epochs - number of times the model sees the data\n",
        "#  (More number of epochs does not yield best results)\n",
        "garmentModel.fit(processed_train_images, train_image_labels, epochs=8)"
      ],
      "metadata": {
        "colab": {
          "base_uri": "https://localhost:8080/"
        },
        "id": "MfgzmQMNrQ4-",
        "outputId": "bd253c82-9e19-4424-9b5e-de4b21fdfa6e"
      },
      "execution_count": 50,
      "outputs": [
        {
          "output_type": "stream",
          "name": "stdout",
          "text": [
            "Epoch 1/8\n",
            "1875/1875 [==============================] - 8s 4ms/step - loss: 0.4994 - accuracy: 0.8242\n",
            "Epoch 2/8\n",
            "1875/1875 [==============================] - 7s 4ms/step - loss: 0.3739 - accuracy: 0.8649\n",
            "Epoch 3/8\n",
            "1875/1875 [==============================] - 8s 4ms/step - loss: 0.3333 - accuracy: 0.8781\n",
            "Epoch 4/8\n",
            "1875/1875 [==============================] - 7s 4ms/step - loss: 0.3121 - accuracy: 0.8859\n",
            "Epoch 5/8\n",
            "1875/1875 [==============================] - 8s 4ms/step - loss: 0.2905 - accuracy: 0.8921\n",
            "Epoch 6/8\n",
            "1875/1875 [==============================] - 7s 4ms/step - loss: 0.2772 - accuracy: 0.8969\n",
            "Epoch 7/8\n",
            "1875/1875 [==============================] - 8s 4ms/step - loss: 0.2650 - accuracy: 0.9020\n",
            "Epoch 8/8\n",
            "1875/1875 [==============================] - 7s 4ms/step - loss: 0.2550 - accuracy: 0.9040\n"
          ]
        },
        {
          "output_type": "execute_result",
          "data": {
            "text/plain": [
              "<keras.src.callbacks.History at 0x7feec6809960>"
            ]
          },
          "metadata": {},
          "execution_count": 50
        }
      ]
    },
    {
      "cell_type": "markdown",
      "source": [
        "**Evaluating the Model**"
      ],
      "metadata": {
        "id": "ZBCHMpLMsNQI"
      }
    },
    {
      "cell_type": "code",
      "source": [
        "# Verbose - 0 (Silent) 1(Show progress bar)\n",
        "test_loss, test_accuracy = garmentModel.evaluate(processed_test_images,  test_image_labels, verbose=1)\n",
        "\n",
        "print('Test accuracy:', test_accuracy)\n",
        "print('Test Loss:', test_loss)"
      ],
      "metadata": {
        "colab": {
          "base_uri": "https://localhost:8080/"
        },
        "id": "FEOKThL4sQcF",
        "outputId": "ca009abd-7a72-4022-b281-70145c6fd072"
      },
      "execution_count": 51,
      "outputs": [
        {
          "output_type": "stream",
          "name": "stdout",
          "text": [
            "313/313 [==============================] - 1s 2ms/step - loss: 0.3233 - accuracy: 0.8845\n",
            "Test accuracy: 0.8845000267028809\n",
            "Test Loss: 0.32331767678260803\n"
          ]
        }
      ]
    },
    {
      "cell_type": "markdown",
      "source": [
        "We can see that the accuracy is lower than when training the model. This difference is referred to as overfitting."
      ],
      "metadata": {
        "id": "Jsl81t6WsuFV"
      }
    },
    {
      "cell_type": "markdown",
      "source": [
        "**Prediction**"
      ],
      "metadata": {
        "id": "1UpWT1cKtPyK"
      }
    },
    {
      "cell_type": "code",
      "source": [
        "# This method returns to us an array of predictions for each image we passed it\n",
        "# Prediction values for the label names\n",
        "garmentPrediction = garmentModel.predict(processed_test_images)\n",
        "# Prediction for image 1.\n",
        "garmentPrediction[0]"
      ],
      "metadata": {
        "colab": {
          "base_uri": "https://localhost:8080/"
        },
        "id": "uhSF1rMQtYH1",
        "outputId": "6e54f380-629d-49e9-f6b9-502d588afd68"
      },
      "execution_count": 52,
      "outputs": [
        {
          "output_type": "stream",
          "name": "stdout",
          "text": [
            "313/313 [==============================] - 1s 2ms/step\n"
          ]
        },
        {
          "output_type": "execute_result",
          "data": {
            "text/plain": [
              "array([1.3666440e-05, 5.2249682e-08, 7.8759131e-06, 9.8258212e-08,\n",
              "       1.4274962e-05, 3.4304172e-02, 3.3097617e-06, 3.1142062e-02,\n",
              "       4.4118442e-06, 9.3451005e-01], dtype=float32)"
            ]
          },
          "metadata": {},
          "execution_count": 52
        }
      ]
    },
    {
      "cell_type": "markdown",
      "source": [
        "To get the value with the highest score we can use numpy funtion argmax() to get the index of the maximium value from a numpy array."
      ],
      "metadata": {
        "id": "wBzpS_iEucn4"
      }
    },
    {
      "cell_type": "code",
      "source": [
        "np.argmax(garmentPrediction[0])"
      ],
      "metadata": {
        "colab": {
          "base_uri": "https://localhost:8080/"
        },
        "id": "-IKIQqCeusia",
        "outputId": "1a15cf7a-b026-4d9d-b904-2fc52aed0a2e"
      },
      "execution_count": 53,
      "outputs": [
        {
          "output_type": "execute_result",
          "data": {
            "text/plain": [
              "9"
            ]
          },
          "metadata": {},
          "execution_count": 53
        }
      ]
    },
    {
      "cell_type": "markdown",
      "source": [
        "We can validate this by looking at the value of the corresponding test label."
      ],
      "metadata": {
        "id": "RD4ZrvTZu2JJ"
      }
    },
    {
      "cell_type": "code",
      "source": [
        "test_image_labels[0]"
      ],
      "metadata": {
        "colab": {
          "base_uri": "https://localhost:8080/"
        },
        "id": "jqKxKSHWvEJE",
        "outputId": "cab85e4b-9111-4441-9936-cf7b12605c8c"
      },
      "execution_count": 54,
      "outputs": [
        {
          "output_type": "execute_result",
          "data": {
            "text/plain": [
              "9"
            ]
          },
          "metadata": {},
          "execution_count": 54
        }
      ]
    },
    {
      "cell_type": "markdown",
      "source": [
        "Visual representation of the prediction"
      ],
      "metadata": {
        "id": "kIKl1y6_vSwE"
      }
    },
    {
      "cell_type": "code",
      "source": [
        "firstTestImageLabelIndex = test_image_labels[0]\n",
        "print('Test Image Label - ', label_names[firstTestImageLabelIndex])\n",
        "\n",
        "# Plotting the image\n",
        "plot.imshow(processed_test_images[0]) # Zero index because we are taking garmentPrediction[0]\n",
        "# Color bar\n",
        "plot.colorbar()\n",
        "plot.show()\n",
        "\n",
        "predictedImageIndex = np.argmax(garmentPrediction[0])\n",
        "print('Predicted Image Label - ', label_names[predictedImageIndex])"
      ],
      "metadata": {
        "colab": {
          "base_uri": "https://localhost:8080/",
          "height": 470
        },
        "id": "aWsl_0eQvbtk",
        "outputId": "a700f22f-6d10-483b-aa69-d20c44c0d0ce"
      },
      "execution_count": 55,
      "outputs": [
        {
          "output_type": "stream",
          "name": "stdout",
          "text": [
            "Test Image Label -  Ankle boot\n"
          ]
        },
        {
          "output_type": "display_data",
          "data": {
            "text/plain": [
              "<Figure size 640x480 with 2 Axes>"
            ],
            "image/png": "[encoded data removed]"
          },
          "metadata": {}
        },
        {
          "output_type": "stream",
          "name": "stdout",
          "text": [
            "Predicted Image Label -  Ankle boot\n"
          ]
        }
      ]
    },
    {
      "cell_type": "markdown",
      "source": [
        "**Sources**\n",
        "\n",
        "1. “Keras: The Python Deep Learning Library.” Home - Keras Documentation, www.keras.io/.\n",
        "2. “Basic Classification: Classify Images of Clothing  :   TensorFlow Core.” TensorFlow, www.tensorflow.org/tutorials/keras/classification.\n",
        "3. \"Machine Learning with Python\", https://www.freecodecamp.org/learn/machine-learning-with-python"
      ],
      "metadata": {
        "id": "zItNmKPIytQ1"
      }
    }
  ]
}